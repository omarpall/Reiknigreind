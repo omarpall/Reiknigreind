{
 "cells": [
  {
   "cell_type": "code",
   "execution_count": null,
   "metadata": {
    "collapsed": true
   },
   "outputs": [],
   "source": [
    "#Add a card to a hand\n",
    "def draw():\n",
    "    rank = random.randint(1, 10)\n",
    "    if(random.randint(1, 3) == 1):\n",
    "        color = -1\n",
    "    else:\n",
    "        color = 1\n",
    "    card = rank * color\n",
    "    return card\n",
    "\n",
    "#Start a new game\n",
    "def initializeEnvironment():\n",
    "    #First card for dealer and player\n",
    "    player = random.randint(1, 10)\n",
    "    dealer = random.randint(1, 10)\n",
    "    return (player, dealer)\n",
    "\n",
    "\n",
    "#Take in inputs state s and action a\n",
    "#Return state s', boolean done and reward r\n",
    "def step(s, a):\n",
    "    player = s[0]\n",
    "    dealer = s[1]\n",
    "\n",
    "    #Player's turn\n",
    "    if(a == 1):\n",
    "        player += draw()\n",
    "        if(player > 21 or player < 1):\n",
    "            return ((player, dealer), True, -1)\n",
    "        else:\n",
    "            return ((player, dealer), False, 0)\n",
    "    #Dealer's turn\n",
    "    elif(a == 0):\n",
    "        while(True):    \n",
    "            dealer += draw()    \n",
    "            if(dealer > 21 or dealer < 1):\n",
    "                return (s, True, 1) \n",
    "            elif(dealer >= 17):\n",
    "                if(dealer > player):\n",
    "                    return (s, True, -1)\n",
    "                elif(dealer < player):  \n",
    "                    return (s, True, 1)\n",
    "                elif(dealer == player):\n",
    "                    return (s, True, 0)"
   ]
  }
 ],
 "metadata": {
  "kernelspec": {
   "display_name": "Python 3",
   "language": "python",
   "name": "python3"
  },
  "language_info": {
   "codemirror_mode": {
    "name": "ipython",
    "version": 3
   },
   "file_extension": ".py",
   "mimetype": "text/x-python",
   "name": "python",
   "nbconvert_exporter": "python",
   "pygments_lexer": "ipython3",
   "version": "3.6.3"
  }
 },
 "nbformat": 4,
 "nbformat_minor": 2
}
